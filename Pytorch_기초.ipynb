{
  "nbformat": 4,
  "nbformat_minor": 0,
  "metadata": {
    "colab": {
      "name": "Pytorch 기초 ",
      "provenance": [],
      "collapsed_sections": [],
      "authorship_tag": "ABX9TyPfRfpdEA2pKBlUK7ucbNSB",
      "include_colab_link": true
    },
    "kernelspec": {
      "name": "python3",
      "display_name": "Python 3"
    }
  },
  "cells": [
    {
      "cell_type": "markdown",
      "metadata": {
        "id": "view-in-github",
        "colab_type": "text"
      },
      "source": [
        "<a href=\"https://colab.research.google.com/github/Hyunsooooo/Pytorch-/blob/main/Pytorch_%EA%B8%B0%EC%B4%88.ipynb\" target=\"_parent\"><img src=\"https://colab.research.google.com/assets/colab-badge.svg\" alt=\"Open In Colab\"/></a>"
      ]
    },
    {
      "cell_type": "code",
      "metadata": {
        "id": "ACgYQv97Uncj"
      },
      "source": [
        "import torch\r\n",
        "#메인 네임스페이스, 텐서 등의 다양한 수학 함수가 포함되어 있으며 Numpy와 유사한 구조를 가집니다."
      ],
      "execution_count": null,
      "outputs": []
    },
    {
      "cell_type": "code",
      "metadata": {
        "id": "kOnb9gbvUo-O"
      },
      "source": [
        "import torch.autograd\r\n",
        "# 자동 미분을 위한 함수들이 포함\r\n",
        "# 자동 미분의 on/off를 제어하는 콘텍스트 매니저나 자체 미분 가능 함수를 정의할 때 사용하는 기반 클래스인 'function등이 포함'"
      ],
      "execution_count": null,
      "outputs": []
    },
    {
      "cell_type": "code",
      "metadata": {
        "id": "mW4KTYprU03x"
      },
      "source": [
        "import torch.nn\r\n",
        "# 신경망을 구축하기 위한 다양한 데이터 구조나 레이어 등이 정의\r\n",
        "# CNN, RNN, LSTM과 같은 레이어 ,ReLU와 같은 활성화 함수, MSELoss와 같은 손실 함수"
      ],
      "execution_count": null,
      "outputs": []
    },
    {
      "cell_type": "code",
      "metadata": {
        "id": "czjgKZr1VQbp"
      },
      "source": [
        "import torch.optim\r\n",
        "# 확률적 경사 하강법(SGD) 를 중심으로 한\r\n",
        "# 파라미터 최적화 알고리즘이 구현되어 있음"
      ],
      "execution_count": null,
      "outputs": []
    },
    {
      "cell_type": "code",
      "metadata": {
        "id": "E3BaTfzbVXql"
      },
      "source": [
        "import torch.utils.data\r\n",
        "# SGD의 반복 연산을 실행할 때 사용하는 미니 배치용 유틸리티 함수가 포함되어져 있습니다."
      ],
      "execution_count": null,
      "outputs": []
    },
    {
      "cell_type": "code",
      "metadata": {
        "id": "AKQJGZCkVc_s"
      },
      "source": [
        "import torch.onnx\r\n",
        "# ONNX 의 포맷으로 모델을 export할 때 사용\r\n",
        "# ONNX는 서로 다른 딥 러닝 프레임워크 간에 모델을 공유할 때 사용하는 포맷"
      ],
      "execution_count": null,
      "outputs": []
    },
    {
      "cell_type": "markdown",
      "metadata": {
        "id": "wADmxDaWVlNB"
      },
      "source": [
        "## 텐서 조작하기"
      ]
    },
    {
      "cell_type": "markdown",
      "metadata": {
        "id": "K0QAC6QNaLF-"
      },
      "source": [
        "### 벡터, 행렬, 그리고 텐서"
      ]
    },
    {
      "cell_type": "code",
      "metadata": {
        "colab": {
          "base_uri": "https://localhost:8080/"
        },
        "id": "v8s2ldhJVpx9",
        "outputId": "5269d0be-c607-40fd-c867-4865c6ee970b"
      },
      "source": [
        "# 2D Tensor 예시\r\n",
        "# iris dataset\r\n",
        "\r\n",
        "from sklearn.datasets import load_iris\r\n",
        "# 기본적 머신러닝 라이브러리 사이킷런에서 iris data를 가져옵니다\r\n",
        "\r\n",
        "iris = load_iris()\r\n",
        "print(iris.data.shape) # row = 150, col = 5\r\n",
        "iris['data'][:10]"
      ],
      "execution_count": null,
      "outputs": [
        {
          "output_type": "stream",
          "text": [
            "(150, 4)\n"
          ],
          "name": "stdout"
        },
        {
          "output_type": "execute_result",
          "data": {
            "text/plain": [
              "array([[5.1, 3.5, 1.4, 0.2],\n",
              "       [4.9, 3. , 1.4, 0.2],\n",
              "       [4.7, 3.2, 1.3, 0.2],\n",
              "       [4.6, 3.1, 1.5, 0.2],\n",
              "       [5. , 3.6, 1.4, 0.2],\n",
              "       [5.4, 3.9, 1.7, 0.4],\n",
              "       [4.6, 3.4, 1.4, 0.3],\n",
              "       [5. , 3.4, 1.5, 0.2],\n",
              "       [4.4, 2.9, 1.4, 0.2],\n",
              "       [4.9, 3.1, 1.5, 0.1]])"
            ]
          },
          "metadata": {
            "tags": []
          },
          "execution_count": 20
        }
      ]
    },
    {
      "cell_type": "code",
      "metadata": {
        "colab": {
          "base_uri": "https://localhost:8080/",
          "height": 283
        },
        "id": "WaTzT30lXMJu",
        "outputId": "3acb1ea1-59f0-49be-de47-55e5d2e9d81f"
      },
      "source": [
        "# 3D Tensor 예시\r\n",
        "# digits (mnist와 비슷함) dataset\r\n",
        "\r\n",
        "from sklearn.datasets import load_digits\r\n",
        "import matplotlib.pyplot as plt\r\n",
        "\r\n",
        "mnist = load_digits()\r\n",
        "print(mnist['images'].shape)\r\n",
        "plt.imshow(mnis['images'][0],cmap = 'PuBu')\r\n",
        "plt.show()"
      ],
      "execution_count": null,
      "outputs": [
        {
          "output_type": "stream",
          "text": [
            "(1797, 8, 8)\n"
          ],
          "name": "stdout"
        },
        {
          "output_type": "display_data",
          "data": {
            "image/png": "[encoded data removed]",
            "text/plain": [
              "<Figure size 432x288 with 1 Axes>"
            ]
          },
          "metadata": {
            "tags": [],
            "needs_background": "light"
          }
        }
      ]
    },
    {
      "cell_type": "code",
      "metadata": {
        "colab": {
          "base_uri": "https://localhost:8080/"
        },
        "id": "hVtH1-RtX034",
        "outputId": "d7e17a0f-2af4-4543-db6d-64c75c7716b6"
      },
      "source": [
        "# 3D Tensor 예시\r\n",
        "\r\n",
        "sentences = ['나는 사과를 좋아해','나는 바나나를 좋아해','나는 사과를 싫어해','나는 바나나를 싫어해']\r\n",
        "word_sentences = [x.split(' ') for x in sentences]\r\n",
        "print(word_sentences)\r\n",
        "\r\n",
        "my_bow = {'나는':[0.1,0.2,0.9],'사과를':[0.3,0.5,0.1], '좋아해':[0.3,0.5,0.2], '바나나를':[0.7,0.6,0.5], '싫어해':[0.5,0.6,0.7]}\r\n",
        "word2vec = [[my_bow[word] for word in sentence] for sentence in word_sentences]\r\n",
        "print(word2vec)"
      ],
      "execution_count": null,
      "outputs": [
        {
          "output_type": "stream",
          "text": [
            "[['나는', '사과를', '좋아해'], ['나는', '바나나를', '좋아해'], ['나는', '사과를', '싫어해'], ['나는', '바나나를', '싫어해']]\n",
            "[[[0.1, 0.2, 0.9], [0.3, 0.5, 0.1], [0.3, 0.5, 0.2]], [[0.1, 0.2, 0.9], [0.7, 0.6, 0.5], [0.3, 0.5, 0.2]], [[0.1, 0.2, 0.9], [0.3, 0.5, 0.1], [0.5, 0.6, 0.7]], [[0.1, 0.2, 0.9], [0.7, 0.6, 0.5], [0.5, 0.6, 0.7]]]\n"
          ],
          "name": "stdout"
        }
      ]
    },
    {
      "cell_type": "markdown",
      "metadata": {
        "id": "kJmU0FQyXqqD"
      },
      "source": [
        "### 넘파이로 텐서 만들기\r\n",
        "Pytorch로 텐서를 만들어보기 전에 Numpy로 텐서를 만든다"
      ]
    },
    {
      "cell_type": "code",
      "metadata": {
        "id": "c2-qnqs9aGF_"
      },
      "source": [
        "import numpy as np"
      ],
      "execution_count": null,
      "outputs": []
    },
    {
      "cell_type": "code",
      "metadata": {
        "colab": {
          "base_uri": "https://localhost:8080/"
        },
        "id": "Ouo_tZ-fXnwQ",
        "outputId": "1fdf6d48-254a-4fa1-cf1b-c2d8b60324d5"
      },
      "source": [
        "# Numpy로 1차원 벡터 만들기\r\n",
        "\r\n",
        "t = np.array([0., 1., 2., 3., 4., 5., 6.])\r\n",
        "print(t)"
      ],
      "execution_count": null,
      "outputs": [
        {
          "output_type": "stream",
          "text": [
            "[0. 1. 2. 3. 4. 5. 6.]\n"
          ],
          "name": "stdout"
        }
      ]
    },
    {
      "cell_type": "code",
      "metadata": {
        "colab": {
          "base_uri": "https://localhost:8080/"
        },
        "id": "jLozpJwHadOH",
        "outputId": "9c137e48-a8ea-4b1b-deac-a0b49cef650b"
      },
      "source": [
        "print('Rank of t: ', t.ndim) #벡터의 차원\r\n",
        "print('Shaple of t: ', t.shape) # 벡터의 크기"
      ],
      "execution_count": null,
      "outputs": [
        {
          "output_type": "stream",
          "text": [
            "Rank of t:  1\n",
            "Shaple of t:  (7,)\n"
          ],
          "name": "stdout"
        }
      ]
    },
    {
      "cell_type": "code",
      "metadata": {
        "colab": {
          "base_uri": "https://localhost:8080/"
        },
        "id": "xwJ8ZrZtanUz",
        "outputId": "13a3d2ff-0d8d-4d71-e227-841a82499fe4"
      },
      "source": [
        "print(f't[0] = {t[0]} , t[1] = {t[1]}, t[-1] = {t[-1]}')\r\n"
      ],
      "execution_count": null,
      "outputs": [
        {
          "output_type": "stream",
          "text": [
            "t[0] = 0.0 , t[1] = 1.0, t[-1] = 6.0\n"
          ],
          "name": "stdout"
        }
      ]
    },
    {
      "cell_type": "code",
      "metadata": {
        "colab": {
          "base_uri": "https://localhost:8080/"
        },
        "id": "ARRkHtdSampm",
        "outputId": "9d5d0d78-fb99-406a-bb48-991c247b904f"
      },
      "source": [
        "print(f't[2:5] = {t[2:5]}, t[4:-1] = {t[4:-1]}')"
      ],
      "execution_count": null,
      "outputs": [
        {
          "output_type": "stream",
          "text": [
            "t[2:5] = [2. 3. 4.], t[4:-1] = [4. 5.]\n"
          ],
          "name": "stdout"
        }
      ]
    },
    {
      "cell_type": "markdown",
      "metadata": {
        "id": "LpRqALtkXmTr"
      },
      "source": [
        "## 텐서 조작하기"
      ]
    },
    {
      "cell_type": "markdown",
      "metadata": {
        "id": "Er-Rc6vSbgZ0"
      },
      "source": [
        "### View - 원소의 수를 유지하면서 텐서의 크기 변경. 매우 중요\r\n",
        "파이토치 텐서의 뷰는 넘파이에서의 reshape와 같은 역할을 합니다.\r\n",
        "텐서의 크기를 변경해주는 역할을 합니다."
      ]
    },
    {
      "cell_type": "code",
      "metadata": {
        "id": "MkEaVroybrET"
      },
      "source": [
        "t = np.array([[[0,1,2],\r\n",
        "              [3,4,5]],\r\n",
        "              [[6,7,8,],\r\n",
        "               [9,10,11]]])\r\n",
        "ft = torch.FloatTensor(t)"
      ],
      "execution_count": null,
      "outputs": []
    },
    {
      "cell_type": "code",
      "metadata": {
        "colab": {
          "base_uri": "https://localhost:8080/",
          "height": 521
        },
        "id": "5Wdbuf5bb_Q8",
        "outputId": "7d0871de-e7a2-4f83-8cb0-2548b489590b"
      },
      "source": [
        "for image in t:\r\n",
        "  plt.imshow(image,cmap='gray')\r\n",
        "  plt.show()"
      ],
      "execution_count": null,
      "outputs": [
        {
          "output_type": "display_data",
          "data": {
            "image/png": "[encoded data removed]",
            "text/plain": [
              "<Figure size 432x288 with 1 Axes>"
            ]
          },
          "metadata": {
            "tags": [],
            "needs_background": "light"
          }
        },
        {
          "output_type": "display_data",
          "data": {
            "image/png": "[encoded data removed]",
            "text/plain": [
              "<Figure size 432x288 with 1 Axes>"
            ]
          },
          "metadata": {
            "tags": [],
            "needs_background": "light"
          }
        }
      ]
    },
    {
      "cell_type": "code",
      "metadata": {
        "colab": {
          "base_uri": "https://localhost:8080/"
        },
        "id": "vOfXQbK6cLQv",
        "outputId": "86c4798f-94ab-47d6-8839-090ca398ea72"
      },
      "source": [
        "print(ft.shape)"
      ],
      "execution_count": null,
      "outputs": [
        {
          "output_type": "stream",
          "text": [
            "torch.Size([2, 2, 3])\n"
          ],
          "name": "stdout"
        }
      ]
    },
    {
      "cell_type": "code",
      "metadata": {
        "id": "ln63YoXdcOQs"
      },
      "source": [
        "# 3차원 텐서에서 2차원 텐서로 변경"
      ],
      "execution_count": null,
      "outputs": []
    },
    {
      "cell_type": "code",
      "metadata": {
        "colab": {
          "base_uri": "https://localhost:8080/"
        },
        "id": "LsPO89eFcRo6",
        "outputId": "4e3dbbc1-9ae5-4dcc-c4b4-79832dde8891"
      },
      "source": [
        "print(ft.view([-1,3]))\r\n",
        "print(ft.view([-1,3]).shape)\r\n",
        "# view([-1,3]) 이 가지는 의미 = -1은 첫번째 차원은 사용자가 모르겠으니 파이토치에 맡기겠다.\r\n",
        "# 3은 두 번째 차원의 길이는 3을 가지도록\r\n",
        "# (?,3)으로 변경하라는 의미, 결과적으로 4,3 을 가지게 됨"
      ],
      "execution_count": null,
      "outputs": [
        {
          "output_type": "stream",
          "text": [
            "tensor([[ 0.,  1.,  2.],\n",
            "        [ 3.,  4.,  5.],\n",
            "        [ 6.,  7.,  8.],\n",
            "        [ 9., 10., 11.]])\n",
            "torch.Size([4, 3])\n"
          ],
          "name": "stdout"
        }
      ]
    },
    {
      "cell_type": "code",
      "metadata": {
        "id": "Yjz27nKacbUB"
      },
      "source": [
        "# 내부적으로 크기 변환은 다음과 같이 이루어짐 (2,2,3) -> (2x2, 3) ->(4,3)\r\n",
        "\r\n",
        "# 1.view 는 기본적으로 변경 전과 후의 원소의 개수가 유지되어야 함\r\n",
        "# 2.파이토치의 view는 사이즈가 -1로 설정되면 다른 차원으로부터 그 값을 유추합니다.\r\n"
      ],
      "execution_count": null,
      "outputs": []
    },
    {
      "cell_type": "code",
      "metadata": {
        "colab": {
          "base_uri": "https://localhost:8080/"
        },
        "id": "oGBZeEdSc-DN",
        "outputId": "788ce051-c9bd-49a8-8af0-99a027bf53f0"
      },
      "source": [
        "print(ft.view([-1,1,3]))\r\n",
        "print(ft.view([-1,1,3]).shape)"
      ],
      "execution_count": null,
      "outputs": [
        {
          "output_type": "stream",
          "text": [
            "tensor([[[ 0.,  1.,  2.]],\n",
            "\n",
            "        [[ 3.,  4.,  5.]],\n",
            "\n",
            "        [[ 6.,  7.,  8.]],\n",
            "\n",
            "        [[ 9., 10., 11.]]])\n",
            "torch.Size([4, 1, 3])\n"
          ],
          "name": "stdout"
        }
      ]
    },
    {
      "cell_type": "markdown",
      "metadata": {
        "id": "Gll_zFeOdC6V"
      },
      "source": [
        "### Squeeze = 1인 차원을 제거한다.\r\n",
        "스퀴즈는 차원이 1인 경우에는 해당 차원을 제거합니다."
      ]
    },
    {
      "cell_type": "code",
      "metadata": {
        "colab": {
          "base_uri": "https://localhost:8080/"
        },
        "id": "CaFjZuXqdRY7",
        "outputId": "d793ed15-ea22-4b0a-c5b2-5bf0b3e925ac"
      },
      "source": [
        "ft = torch.FloatTensor([[0],[1],[2]])\r\n",
        "print(ft)\r\n",
        "print(ft.shape)"
      ],
      "execution_count": null,
      "outputs": [
        {
          "output_type": "stream",
          "text": [
            "tensor([[0.],\n",
            "        [1.],\n",
            "        [2.]])\n",
            "torch.Size([3, 1])\n"
          ],
          "name": "stdout"
        }
      ]
    },
    {
      "cell_type": "code",
      "metadata": {
        "colab": {
          "base_uri": "https://localhost:8080/"
        },
        "id": "8tCZylWVdV45",
        "outputId": "5b6355cc-4df9-4e2b-c06c-9cc5690f999f"
      },
      "source": [
        "print(ft.squeeze())\r\n",
        "print(ft.squeeze().shape)"
      ],
      "execution_count": null,
      "outputs": [
        {
          "output_type": "stream",
          "text": [
            "tensor([0., 1., 2.])\n",
            "torch.Size([3])\n"
          ],
          "name": "stdout"
        }
      ]
    },
    {
      "cell_type": "markdown",
      "metadata": {
        "id": "M0fpIiB5dZxa"
      },
      "source": [
        "### Unsqueeze = 특정 위치에 1인 차원을 추가합니다\r\n",
        "스퀴즈와 정반대"
      ]
    },
    {
      "cell_type": "code",
      "metadata": {
        "colab": {
          "base_uri": "https://localhost:8080/"
        },
        "id": "0VL4qrjbdjIv",
        "outputId": "6fcd7118-b77e-41bd-93ee-6d1128ee3ea7"
      },
      "source": [
        "ft = torch.Tensor([0, 1, 2])\r\n",
        "print(ft.shape)"
      ],
      "execution_count": null,
      "outputs": [
        {
          "output_type": "stream",
          "text": [
            "torch.Size([3])\n"
          ],
          "name": "stdout"
        }
      ]
    },
    {
      "cell_type": "code",
      "metadata": {
        "colab": {
          "base_uri": "https://localhost:8080/"
        },
        "id": "-Y15PjrcdpFz",
        "outputId": "34821eaf-38e5-411a-c1b0-7f3968221ccf"
      },
      "source": [
        "print(ft.unsqueeze(0))\r\n",
        "print(ft.unsqueeze(0).shape) # index 0 첫번째 차원에 1인 차원이 추가 (1,3)"
      ],
      "execution_count": null,
      "outputs": [
        {
          "output_type": "stream",
          "text": [
            "tensor([[0., 1., 2.]])\n",
            "torch.Size([1, 3])\n"
          ],
          "name": "stdout"
        }
      ]
    },
    {
      "cell_type": "code",
      "metadata": {
        "colab": {
          "base_uri": "https://localhost:8080/"
        },
        "id": "OQj1mUhQdxDu",
        "outputId": "4a8c026a-6423-404a-a0b8-74b93d8deadf"
      },
      "source": [
        "print(ft.view(1,-1))\r\n",
        "print(ft.view(1,-1).shape) # view 를 활용해서 추가하는 방법도 있음"
      ],
      "execution_count": null,
      "outputs": [
        {
          "output_type": "stream",
          "text": [
            "tensor([[0., 1., 2.]])\n",
            "torch.Size([1, 3])\n"
          ],
          "name": "stdout"
        }
      ]
    },
    {
      "cell_type": "code",
      "metadata": {
        "colab": {
          "base_uri": "https://localhost:8080/"
        },
        "id": "aSn0tYaYd3lF",
        "outputId": "df881e9f-ef31-4abd-bf05-5c5fbd7a4b74"
      },
      "source": [
        "print(ft.unsqueeze(1))\r\n",
        "print(ft.unsqueeze(1).shape) # (3,1)"
      ],
      "execution_count": null,
      "outputs": [
        {
          "output_type": "stream",
          "text": [
            "tensor([[0.],\n",
            "        [1.],\n",
            "        [2.]])\n",
            "torch.Size([3, 1])\n"
          ],
          "name": "stdout"
        }
      ]
    },
    {
      "cell_type": "code",
      "metadata": {
        "colab": {
          "base_uri": "https://localhost:8080/"
        },
        "id": "5YahQwDDeC8C",
        "outputId": "03eb59a4-ec33-4e22-9569-8c0fe26b8b32"
      },
      "source": [
        "print(ft.unsqueeze(-1))\r\n",
        "print(ft.unsqueeze(-1).shape) # (3,1) 로 (1) 을 넣는 경우가 동일함 현재 텐서에서는."
      ],
      "execution_count": null,
      "outputs": [
        {
          "output_type": "stream",
          "text": [
            "tensor([[0.],\n",
            "        [1.],\n",
            "        [2.]])\n",
            "torch.Size([3, 1])\n"
          ],
          "name": "stdout"
        }
      ]
    },
    {
      "cell_type": "code",
      "metadata": {
        "id": "xdoC4IOzeSHm"
      },
      "source": [
        "# view(), squeeze(), unsqueeze() 는 텐서의 원소 수를 그대로 유지하면서 모양과 차원을 조절함"
      ],
      "execution_count": null,
      "outputs": []
    },
    {
      "cell_type": "markdown",
      "metadata": {
        "id": "0QdBDvyjehqE"
      },
      "source": [
        "### Type Casting  아까보다 더 중요\r\n",
        "텐서에는 자료형이라는 것이 있습니다. 각 데이터형별로 정의되어져 있는데, Ex) 32비트의 유동 소수점은 torch.FloatTensor , 64비트의 부호 있는 정수는 torch.LongTensor를 사용합니다. GPU 연산을 위한 자료형은 torch.cuda.FloatTensor\r\n",
        "이 자료형을 변환하는 것을 Type Casting 이라 함"
      ]
    },
    {
      "cell_type": "code",
      "metadata": {
        "id": "766tUYMHfBlu"
      },
      "source": [
        "# Long 타입의 lt 라는 텐서 생성"
      ],
      "execution_count": null,
      "outputs": []
    },
    {
      "cell_type": "code",
      "metadata": {
        "colab": {
          "base_uri": "https://localhost:8080/"
        },
        "id": "CVtNUXBNenWM",
        "outputId": "964455d8-df5f-443d-b90e-e7288fb61003"
      },
      "source": [
        "lt = torch.LongTensor([1,2,3,4])\r\n",
        "print(lt)"
      ],
      "execution_count": null,
      "outputs": [
        {
          "output_type": "stream",
          "text": [
            "tensor([1, 2, 3, 4])\n"
          ],
          "name": "stdout"
        }
      ]
    },
    {
      "cell_type": "code",
      "metadata": {
        "colab": {
          "base_uri": "https://localhost:8080/"
        },
        "id": "YMLd9fORfJK7",
        "outputId": "b00b0815-1a4f-4026-9a60-e2fb38c89866"
      },
      "source": [
        "#텐서에다가 .float()을 붙이면 float형으로 타입이 바뀜\r\n",
        "\r\n",
        "print(lt.float())"
      ],
      "execution_count": null,
      "outputs": [
        {
          "output_type": "stream",
          "text": [
            "tensor([1., 2., 3., 4.])\n"
          ],
          "name": "stdout"
        }
      ]
    },
    {
      "cell_type": "code",
      "metadata": {
        "colab": {
          "base_uri": "https://localhost:8080/"
        },
        "id": "h1mDpBmzfM-c",
        "outputId": "b5efe138-4b3f-414e-856b-664ff1950dea"
      },
      "source": [
        "bt = torch.ByteTensor([True,False,False,True])\r\n",
        "print(bt) # Byte 타입의 bt 라는 텐서"
      ],
      "execution_count": null,
      "outputs": [
        {
          "output_type": "stream",
          "text": [
            "tensor([1, 0, 0, 1], dtype=torch.uint8)\n"
          ],
          "name": "stdout"
        }
      ]
    },
    {
      "cell_type": "code",
      "metadata": {
        "colab": {
          "base_uri": "https://localhost:8080/"
        },
        "id": "nbpRBcfnfSn0",
        "outputId": "00149074-1971-4155-886f-84e96fc5cb8b"
      },
      "source": [
        "print(bt.long())\r\n",
        "print(bt.float())"
      ],
      "execution_count": null,
      "outputs": [
        {
          "output_type": "stream",
          "text": [
            "tensor([1, 0, 0, 1])\n",
            "tensor([1., 0., 0., 1.])\n"
          ],
          "name": "stdout"
        }
      ]
    },
    {
      "cell_type": "markdown",
      "metadata": {
        "id": "jI0PoC_tfXwI"
      },
      "source": [
        "### concatenate\r\n",
        "두 텐서를 연결하는 방법"
      ]
    },
    {
      "cell_type": "code",
      "metadata": {
        "id": "yaaK95Bufb6G"
      },
      "source": [
        "#2x2 크기의 텐서 두개 생성\r\n",
        "x = torch.FloatTensor([[1,2],[3,4]])\r\n",
        "y = torch.FloatTensor([[5,6], [7,8]])"
      ],
      "execution_count": null,
      "outputs": []
    },
    {
      "cell_type": "code",
      "metadata": {
        "colab": {
          "base_uri": "https://localhost:8080/"
        },
        "id": "aKm60Vsmfloz",
        "outputId": "318e74fd-2a27-4e03-9d8b-32df357fd559"
      },
      "source": [
        "# 두 텐서를 torch.cat([])을 통해 연결한다. 어느 차원을 늘릴 것인지를 인자로 줄 수 있다.\r\n",
        "# Ex ) dim = 0 은 index 0 의 차원을 늘리라는 의미임\r\n",
        "\r\n",
        "print(torch.cat([x,y], dim =0)) # 2x2 , 2x2 -> 4x2"
      ],
      "execution_count": null,
      "outputs": [
        {
          "output_type": "stream",
          "text": [
            "tensor([[1., 2.],\n",
            "        [3., 4.],\n",
            "        [5., 6.],\n",
            "        [7., 8.]])\n"
          ],
          "name": "stdout"
        }
      ]
    },
    {
      "cell_type": "code",
      "metadata": {
        "colab": {
          "base_uri": "https://localhost:8080/"
        },
        "id": "VHgZw0Ejfx2l",
        "outputId": "fd3a1783-3f58-4059-ace7-16423310826b"
      },
      "source": [
        "print(torch.cat([x,y], dim = 1)) # 2x2, 2x2 -> 2x4"
      ],
      "execution_count": null,
      "outputs": [
        {
          "output_type": "stream",
          "text": [
            "tensor([[1., 2., 5., 6.],\n",
            "        [3., 4., 7., 8.]])\n"
          ],
          "name": "stdout"
        }
      ]
    },
    {
      "cell_type": "markdown",
      "metadata": {
        "id": "_aIKx4ydf22T"
      },
      "source": [
        "### Stacking\r\n",
        "연결을 하는 또 다른 방법임. 영어로는 쌓는다는 의미."
      ]
    },
    {
      "cell_type": "code",
      "metadata": {
        "id": "yf6uK-COgBVQ"
      },
      "source": [
        "# 크기가 (2,) 인 3개의 벡터 생성\r\n",
        "\r\n",
        "x = torch.FloatTensor([1,4])\r\n",
        "y = torch.FloatTensor([2,5])\r\n",
        "z = torch.FloatTensor([3,6])"
      ],
      "execution_count": null,
      "outputs": []
    },
    {
      "cell_type": "code",
      "metadata": {
        "colab": {
          "base_uri": "https://localhost:8080/"
        },
        "id": "12tLrfT8gLG2",
        "outputId": "f7367bd2-e017-4063-e176-2144b94712a2"
      },
      "source": [
        "print(torch.stack([x,y,z])) # (3x2) 가 되었음."
      ],
      "execution_count": null,
      "outputs": [
        {
          "output_type": "stream",
          "text": [
            "tensor([[1., 4.],\n",
            "        [2., 5.],\n",
            "        [3., 6.]])\n"
          ],
          "name": "stdout"
        }
      ]
    },
    {
      "cell_type": "code",
      "metadata": {
        "colab": {
          "base_uri": "https://localhost:8080/"
        },
        "id": "q2OifA1CgOAZ",
        "outputId": "0456b454-ac64-40be-8132-0e42eba9ecd6"
      },
      "source": [
        "# 스택킹은 많은 연산을 축약한 것. 다음과 같다.\r\n",
        "\r\n",
        "print(torch.cat([x.unsqueeze(0), y.unsqueeze(0), z.unsqueeze(0)], dim=0))"
      ],
      "execution_count": null,
      "outputs": [
        {
          "output_type": "stream",
          "text": [
            "tensor([[1., 4.],\n",
            "        [2., 5.],\n",
            "        [3., 6.]])\n"
          ],
          "name": "stdout"
        }
      ]
    },
    {
      "cell_type": "code",
      "metadata": {
        "colab": {
          "base_uri": "https://localhost:8080/"
        },
        "id": "T5lVgIw9gfU-",
        "outputId": "2bf5dad4-b6d9-40e4-d2e0-efab663fb9eb"
      },
      "source": [
        "# 스태킹에도 dim를 인자로 줄 수 있다. 증가하는 차원을 정하는 것\r\n",
        "\r\n",
        "print(torch.stack([x,y,z], dim = 1))"
      ],
      "execution_count": null,
      "outputs": [
        {
          "output_type": "stream",
          "text": [
            "tensor([[1., 2., 3.],\n",
            "        [4., 5., 6.]])\n"
          ],
          "name": "stdout"
        }
      ]
    },
    {
      "cell_type": "markdown",
      "metadata": {
        "id": "F1epNrI_hKAx"
      },
      "source": [
        "### ones_like 와 zeros_like - 0 으로 채워진 텐서와 1로 채워진 텐서"
      ]
    },
    {
      "cell_type": "code",
      "metadata": {
        "colab": {
          "base_uri": "https://localhost:8080/"
        },
        "id": "2UxRYE7fhUB5",
        "outputId": "c4847d9e-bddb-4f5c-977b-c98bb2620354"
      },
      "source": [
        "# (2x3) 텐서 생성\r\n",
        "\r\n",
        "x = torch.FloatTensor([[0,1,2], [2,1,0]])\r\n",
        "print(x)"
      ],
      "execution_count": null,
      "outputs": [
        {
          "output_type": "stream",
          "text": [
            "tensor([[0., 1., 2.],\n",
            "        [2., 1., 0.]])\n"
          ],
          "name": "stdout"
        }
      ]
    },
    {
      "cell_type": "code",
      "metadata": {
        "colab": {
          "base_uri": "https://localhost:8080/"
        },
        "id": "0BgYZ_5fha1Q",
        "outputId": "3182fc30-16e8-4bf5-e2cb-dccfe6e27ffd"
      },
      "source": [
        "#위 텐서에 ones_like 를 하면 동일한 크기의 1로 채워진 텐서 형성\r\n",
        "\r\n",
        "print(torch.ones_like(x))"
      ],
      "execution_count": null,
      "outputs": [
        {
          "output_type": "stream",
          "text": [
            "tensor([[1., 1., 1.],\n",
            "        [1., 1., 1.]])\n"
          ],
          "name": "stdout"
        }
      ]
    },
    {
      "cell_type": "code",
      "metadata": {
        "colab": {
          "base_uri": "https://localhost:8080/"
        },
        "id": "SECzUtuEhgph",
        "outputId": "8c119500-fdc9-4c04-ecaa-19a57547823b"
      },
      "source": [
        "print(torch.zeros_like(x))"
      ],
      "execution_count": null,
      "outputs": [
        {
          "output_type": "stream",
          "text": [
            "tensor([[0., 0., 0.],\n",
            "        [0., 0., 0.]])\n"
          ],
          "name": "stdout"
        }
      ]
    },
    {
      "cell_type": "markdown",
      "metadata": {
        "id": "cGui1QH5hivB"
      },
      "source": [
        "### in-place operation 덮어쓰기 연산"
      ]
    },
    {
      "cell_type": "code",
      "metadata": {
        "id": "cZOAwqNMhoOb"
      },
      "source": [
        "# 2x2 텐서를 생성\r\n",
        "\r\n",
        "x = torch.FloatTensor([[1,2], [3,4]]) "
      ],
      "execution_count": null,
      "outputs": []
    },
    {
      "cell_type": "code",
      "metadata": {
        "colab": {
          "base_uri": "https://localhost:8080/"
        },
        "id": "4Tggc8QQhuGk",
        "outputId": "996b1c48-9c7a-4670-adaf-a2eac55be173"
      },
      "source": [
        "print(x.mul(2.)) # 곱하기 2를 수행한 결과를 출력\r\n",
        "print(x) # 기존의 값 출력"
      ],
      "execution_count": null,
      "outputs": [
        {
          "output_type": "stream",
          "text": [
            "tensor([[2., 4.],\n",
            "        [6., 8.]])\n",
            "tensor([[1., 2.],\n",
            "        [3., 4.]])\n"
          ],
          "name": "stdout"
        }
      ]
    },
    {
      "cell_type": "code",
      "metadata": {
        "colab": {
          "base_uri": "https://localhost:8080/"
        },
        "id": "gZUkixobhzQm",
        "outputId": "bde7885c-a76d-473b-a621-ddccf87c6913"
      },
      "source": [
        "# 연산 뒤에 _ 를 붙여주면 기존의 값에 덮어쓴다.\r\n",
        "\r\n",
        "print(x.mul_(2.))\r\n",
        "print(x)"
      ],
      "execution_count": null,
      "outputs": [
        {
          "output_type": "stream",
          "text": [
            "tensor([[2., 4.],\n",
            "        [6., 8.]])\n",
            "tensor([[2., 4.],\n",
            "        [6., 8.]])\n"
          ],
          "name": "stdout"
        }
      ]
    },
    {
      "cell_type": "markdown",
      "metadata": {
        "id": "CGQcUpajh6Ck"
      },
      "source": [
        "### 파이썬 class\r\n"
      ]
    },
    {
      "cell_type": "code",
      "metadata": {
        "id": "NOpouJ48gd22"
      },
      "source": [
        "result = 0"
      ],
      "execution_count": null,
      "outputs": []
    },
    {
      "cell_type": "code",
      "metadata": {
        "id": "GJwfeGt5iAk5"
      },
      "source": [
        "def add(num):\r\n",
        "  global result #기존의 result 함수의 인자로 온 숫자를 더하고 return\r\n",
        "  result += num\r\n",
        "  return result"
      ],
      "execution_count": null,
      "outputs": []
    },
    {
      "cell_type": "code",
      "metadata": {
        "colab": {
          "base_uri": "https://localhost:8080/"
        },
        "id": "CKbeljA9iKZ9",
        "outputId": "f10bc57a-efd9-425a-a37f-b2d158a610e1"
      },
      "source": [
        "print(add(3)) # 여기서 result 값이 3으로 갱신된다.\r\n",
        "print(add(4))"
      ],
      "execution_count": null,
      "outputs": [
        {
          "output_type": "stream",
          "text": [
            "3\n",
            "7\n"
          ],
          "name": "stdout"
        }
      ]
    },
    {
      "cell_type": "code",
      "metadata": {
        "colab": {
          "base_uri": "https://localhost:8080/"
        },
        "id": "rqN0CixiiNAu",
        "outputId": "f83231cc-84d0-4a96-ed90-46ed8b55dbfc"
      },
      "source": [
        "# 함수로 두 개의 덧셈기 구현하기\r\n",
        "\r\n",
        "result1 = 0\r\n",
        "result2 = 0\r\n",
        "\r\n",
        "def add1(num):\r\n",
        "  global result1\r\n",
        "  result1 += num\r\n",
        "  return result1\r\n",
        "\r\n",
        "def add2(num):\r\n",
        "  global result2\r\n",
        "  result2 += num\r\n",
        "  return result2\r\n",
        "\r\n",
        "print(add1(3))\r\n",
        "print(add1(4))\r\n",
        "print(add2(3))\r\n",
        "print(add2(7))"
      ],
      "execution_count": null,
      "outputs": [
        {
          "output_type": "stream",
          "text": [
            "3\n",
            "7\n",
            "3\n",
            "10\n"
          ],
          "name": "stdout"
        }
      ]
    },
    {
      "cell_type": "code",
      "metadata": {
        "colab": {
          "base_uri": "https://localhost:8080/"
        },
        "id": "iN4y2ADnimwB",
        "outputId": "bc9a7950-afed-49ff-a174-d8f16fa4e880"
      },
      "source": [
        "# 이러한 덧셈기를 class 로 만든다면?\r\n",
        "\r\n",
        "class Calculator:\r\n",
        "  def __init__(self):\r\n",
        "    self.result = 0\r\n",
        "\r\n",
        "  def add(self,num):\r\n",
        "    self.result += num\r\n",
        "    return self.result\r\n",
        "\r\n",
        "cal1 = Calculator()\r\n",
        "\r\n",
        "cal2 = Calculator()\r\n",
        "\r\n",
        "print(cal1.add(3))\r\n",
        "print(cal1.add(4))\r\n",
        "print(cal2.add(3))\r\n",
        "print(cal2.add(7))"
      ],
      "execution_count": null,
      "outputs": [
        {
          "output_type": "stream",
          "text": [
            "3\n",
            "7\n",
            "3\n",
            "10\n"
          ],
          "name": "stdout"
        }
      ]
    },
    {
      "cell_type": "code",
      "metadata": {
        "id": "c7QlI5n7i_FS"
      },
      "source": [
        ""
      ],
      "execution_count": null,
      "outputs": []
    },
    {
      "cell_type": "code",
      "metadata": {
        "id": "q3ohxkTbeB4M"
      },
      "source": [
        ""
      ],
      "execution_count": null,
      "outputs": []
    }
  ]
}